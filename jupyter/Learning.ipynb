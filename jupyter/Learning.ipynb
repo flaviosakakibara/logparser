{
 "cells": [
  {
   "cell_type": "code",
   "execution_count": null,
   "metadata": {},
   "outputs": [],
   "source": [
    "#Function to return the amount of lines of a file\n",
    "def file_len(fname):\n",
    "    with open(fname) as f:\n",
    "        for i, l in enumerate(f):\n",
    "            pass\n",
    "    return i + 1\n",
    "\n",
    "print('Files\\' lines ammount: ', file_len('/mnt/data/logs/journalctl'))"
   ]
  },
  {
   "cell_type": "code",
   "execution_count": null,
   "metadata": {},
   "outputs": [],
   "source": [
    "#Defining a list of words in the log file\n",
    "list_of_words=[]\n",
    "list_of_lines=[]\n",
    "with open('/mnt/data/logs/journalctl', mode='r') as file:\n",
    "    \n",
    "    for line in file:\n",
    "        list_of_lines.append(line)\n",
    "        list_of_words.append(line.split())\n",
    "        \n",
    "#[\n",
    "#  [],\n",
    "#  [],\n",
    "#]\n",
    "print (type(list_of_words))\n",
    "print (type(list_of_words[0]))"
   ]
  },
  {
   "cell_type": "code",
   "execution_count": null,
   "metadata": {},
   "outputs": [],
   "source": [
    "from sklearn.feature_extraction.text import TfidfVectorizer as tfidfv\n",
    "\n",
    "for line in list_of_lines[:2]:\n",
    "    \n",
    "    tfidfv.fit_transform(line)\n",
    "    "
   ]
  }
 ],
 "metadata": {
  "kernelspec": {
   "display_name": "logparser",
   "language": "python",
   "name": "logparser"
  },
  "language_info": {
   "codemirror_mode": {
    "name": "ipython",
    "version": 3
   },
   "file_extension": ".py",
   "mimetype": "text/x-python",
   "name": "python",
   "nbconvert_exporter": "python",
   "pygments_lexer": "ipython3",
   "version": "3.6.8"
  }
 },
 "nbformat": 4,
 "nbformat_minor": 2
}
